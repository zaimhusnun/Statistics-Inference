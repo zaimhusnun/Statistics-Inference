{
  "cells": [
    {
      "cell_type": "markdown",
      "metadata": {
        "id": "view-in-github",
        "colab_type": "text"
      },
      "source": [
        "<a href=\"https://colab.research.google.com/github/zaimhusnun/Statistics-Inference/blob/main/Statistics_Inference.ipynb\" target=\"_parent\"><img src=\"https://colab.research.google.com/assets/colab-badge.svg\" alt=\"Open In Colab\"/></a>"
      ]
    },
    {
      "cell_type": "code",
      "execution_count": null,
      "id": "bc1ae5cb",
      "metadata": {
        "id": "bc1ae5cb"
      },
      "outputs": [],
      "source": [
        "import pandas as pd\n",
        "import numpy as np\n",
        "import scipy.stats as stats"
      ]
    },
    {
      "cell_type": "code",
      "execution_count": null,
      "id": "56869232",
      "metadata": {
        "id": "56869232"
      },
      "outputs": [],
      "source": [
        "# Data yang disediakan di assignment\n",
        "data=[100, 150, 50, 100, 130, 120, 100, 110, 75, 65, 150, 120, 50, 100, 100, 140, 90, 150, 50, 90]"
      ]
    },
    {
      "cell_type": "code",
      "execution_count": null,
      "id": "64f64a29",
      "metadata": {
        "id": "64f64a29"
      },
      "outputs": [],
      "source": [
        "# Hipotesis\n",
        "\n",
        "H0=\"H0:miu=100\", #There is no difference in the value of transactions that occur before and after the campaign\n",
        "H1=\"H1:miu>100\", #There is difference in the value of transactions that occur before and after the campaign"
      ]
    },
    {
      "cell_type": "code",
      "execution_count": null,
      "id": "2df977c4",
      "metadata": {
        "id": "2df977c4"
      },
      "outputs": [],
      "source": [
        "# Taraf signifikansi\n",
        "alpha=0.05, \"5%\""
      ]
    },
    {
      "cell_type": "code",
      "execution_count": null,
      "id": "a6611ddc",
      "metadata": {
        "id": "a6611ddc",
        "outputId": "f87cf20c-2662-4863-8397-6827661dd220"
      },
      "outputs": [
        {
          "name": "stdout",
          "output_type": "stream",
          "text": [
            "Hasil dari nilai statistik t dari data tersebut adalah  0.2731657711666385  sedangkan untuk nilai dari P-value adalah 0.787672894169515 . Akan dilanjutkan tahap mencari nilai dari t tabel dengan derajat bebas 19\n"
          ]
        }
      ],
      "source": [
        "# Menghhitung nilai dari statistik t\n",
        "\n",
        "t=stats.ttest_1samp(data, 100)\n",
        "print('Hasil dari nilai statistik t dari data tersebut adalah ', t[0],\" sedangkan untuk nilai dari P-value adalah\", t[1],\". Akan dilanjutkan tahap mencari nilai dari t tabel dengan derajat bebas 19\")"
      ]
    },
    {
      "cell_type": "code",
      "execution_count": null,
      "id": "c4b357ba",
      "metadata": {
        "id": "c4b357ba",
        "outputId": "329c1d99-db1e-4cc9-8bb8-5ce9490ba4ab"
      },
      "outputs": [
        {
          "name": "stdout",
          "output_type": "stream",
          "text": [
            "Nilai dari t tabel dari data tersebut adalah = 1.729132811521367 . Akan dilanjutkan tahap mengambil keputusan apakah menerima atau menolak H0\n"
          ]
        }
      ],
      "source": [
        "# Menghitung nilai dari t tabel\n",
        "t_tabel=stats.t.ppf(1-(0.05), 19)\n",
        "print('Nilai dari t tabel dari data tersebut adalah =', t_tabel,\". Akan dilanjutkan tahap mengambil keputusan apakah menerima atau menolak H0\")"
      ]
    },
    {
      "cell_type": "code",
      "execution_count": null,
      "id": "337b6069",
      "metadata": {
        "id": "337b6069",
        "outputId": "3af3e3bc-9d18-45f0-fc92-d94d2a235ec6"
      },
      "outputs": [
        {
          "name": "stdout",
          "output_type": "stream",
          "text": [
            "Accept H0, There is difference in the value of transactions that occur before and after the campaign\n"
          ]
        }
      ],
      "source": [
        "# Keputusan\n",
        "\n",
        "if t[0]>t_tabel:\n",
        "    print(\"Reject H0, There is difference in the value of transactions that occur before and after the campaign\")\n",
        "else :\n",
        "    print(\"Accept H0, There is difference in the value of transactions that occur before and after the campaign\")"
      ]
    }
  ],
  "metadata": {
    "kernelspec": {
      "display_name": "Python 3 (ipykernel)",
      "language": "python",
      "name": "python3"
    },
    "language_info": {
      "codemirror_mode": {
        "name": "ipython",
        "version": 3
      },
      "file_extension": ".py",
      "mimetype": "text/x-python",
      "name": "python",
      "nbconvert_exporter": "python",
      "pygments_lexer": "ipython3",
      "version": "3.9.7"
    },
    "colab": {
      "provenance": [],
      "include_colab_link": true
    }
  },
  "nbformat": 4,
  "nbformat_minor": 5
}